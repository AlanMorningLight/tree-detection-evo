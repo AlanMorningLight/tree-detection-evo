{
 "cells": [
  {
   "cell_type": "markdown",
   "metadata": {},
   "source": [
    "This notebook shows the training process."
   ]
  },
  {
   "cell_type": "markdown",
   "metadata": {},
   "source": [
    "# Imports"
   ]
  },
  {
   "cell_type": "code",
   "execution_count": 1,
   "metadata": {
    "ExecuteTime": {
     "end_time": "2020-08-25T06:43:25.388805Z",
     "start_time": "2020-08-25T06:43:24.882119Z"
    }
   },
   "outputs": [],
   "source": [
    "%load_ext autoreload\n",
    "%autoreload 2\n",
    "\n",
    "%matplotlib inline"
   ]
  },
  {
   "cell_type": "code",
   "execution_count": 4,
   "metadata": {
    "ExecuteTime": {
     "end_time": "2020-08-24T13:10:53.683004Z",
     "start_time": "2020-08-24T13:10:53.663404Z"
    }
   },
   "outputs": [],
   "source": [
    "import torch\n",
    "import numpy as np\n",
    "import random\n",
    "\n",
    "def reset_seed(seed=12):\n",
    "    torch.manual_seed(seed)\n",
    "    np.random.seed(seed)\n",
    "    random.seed(seed)\n",
    "    torch.backends.cudnn.deterministic = True\n",
    "    torch.backends.cudnn.benchmark = False\n",
    "    torch.cuda.manual_seed(seed)\n",
    "    torch.cuda.manual_seed_all(seed) # gpu vars\n"
   ]
  },
  {
   "cell_type": "code",
   "execution_count": 5,
   "metadata": {
    "ExecuteTime": {
     "end_time": "2020-08-24T13:10:57.340577Z",
     "start_time": "2020-08-24T13:10:54.038488Z"
    },
    "scrolled": false
   },
   "outputs": [],
   "source": [
    "from mpl_toolkits.mplot3d import Axes3D\n",
    "from src.multichannel import *"
   ]
  },
  {
   "cell_type": "code",
   "execution_count": 6,
   "metadata": {
    "ExecuteTime": {
     "end_time": "2020-08-24T13:10:58.174773Z",
     "start_time": "2020-08-24T13:10:57.343557Z"
    }
   },
   "outputs": [],
   "source": [
    "from fastai2.basics import *\n",
    "from fastai2.vision.augment import *\n",
    "from fastai2.vision.core import *\n",
    "from fastai2.vision.data import *\n",
    "from fastai2.data.all import *\n",
    "from src.customnets import SimpleNet"
   ]
  },
  {
   "cell_type": "code",
   "execution_count": 7,
   "metadata": {
    "ExecuteTime": {
     "end_time": "2020-08-24T13:10:58.314667Z",
     "start_time": "2020-08-24T13:10:58.177159Z"
    }
   },
   "outputs": [],
   "source": [
    "def listrange(start, end):\n",
    "    return list(range(start, end))"
   ]
  },
  {
   "cell_type": "code",
   "execution_count": 8,
   "metadata": {
    "ExecuteTime": {
     "end_time": "2020-08-24T13:10:58.441156Z",
     "start_time": "2020-08-24T13:10:58.317628Z"
    }
   },
   "outputs": [],
   "source": [
    "interp_bands = [98,99] + list(range(153,197)) + list(range(208,230)) + list(range(253,281)) + list(range(336,382))\n",
    "non_interp_bands = (list(range(0,98)) + list(range(100,153)) + list(range(197,208)) + list(range(231,253)) \n",
    "                    + list(range(281,336)) + list(range(383,461)))\n",
    "non_interp_under_2000nm = (list(range(0,98)) + list(range(100,153)) + list(range(197,208)) + list(range(231,253)) \n",
    "                           + list(range(281,337)))\n",
    "all_bands = list(range(460))\n",
    "vnir = list(range(186))# + [460]\n",
    "vnir_nointerp = list(range(0,98)) + list(range(100,153)) + [460]\n",
    "pca = list(range(30))\n",
    "selection = non_interp_under_2000nm"
   ]
  },
  {
   "cell_type": "code",
   "execution_count": 9,
   "metadata": {
    "ExecuteTime": {
     "end_time": "2020-08-24T13:10:58.532503Z",
     "start_time": "2020-08-24T13:10:58.443223Z"
    }
   },
   "outputs": [],
   "source": [
    " selection = listrange(0,100) + listrange(101, 155) + listrange(195, 209) + listrange(230,255) + listrange(280,337)"
   ]
  },
  {
   "cell_type": "markdown",
   "metadata": {},
   "source": [
    "# Read data"
   ]
  },
  {
   "cell_type": "code",
   "execution_count": 10,
   "metadata": {
    "ExecuteTime": {
     "end_time": "2020-08-24T13:10:58.671475Z",
     "start_time": "2020-08-24T13:10:58.534568Z"
    }
   },
   "outputs": [],
   "source": [
    "basedir = Path('data/tree_cubes_10m_fixed/5m')\n",
    "stats = np.load(str(basedir/'train_stats.npy')).astype(np.float32)"
   ]
  },
  {
   "cell_type": "code",
   "execution_count": 11,
   "metadata": {
    "ExecuteTime": {
     "end_time": "2020-08-24T13:10:58.731630Z",
     "start_time": "2020-08-24T13:10:58.673461Z"
    }
   },
   "outputs": [],
   "source": [
    "import warnings\n",
    "warnings.filterwarnings(\"ignore\", category=UserWarning, module=\"torch.nn.functional\")"
   ]
  },
  {
   "cell_type": "code",
   "execution_count": 12,
   "metadata": {
    "ExecuteTime": {
     "end_time": "2020-08-24T13:11:02.982912Z",
     "start_time": "2020-08-24T13:10:59.351131Z"
    }
   },
   "outputs": [],
   "source": [
    "dls = MultiChannelImageDataLoaders.from_shapefile(basedir, shp_fname='train_test.shp', extensions=['.npy'], \n",
    "                                                  label_col='species', fn_col='filename', bs=64,\n",
    "                                                  chans=selection, \n",
    "                                                  #valid_pct=0.1, seed=12,\n",
    "                                                  valid_col='is_test',\n",
    "                                                  batch_tfms=setup_aug_tfms([\n",
    "                                                      Normalize.from_stats(*stats[:,selection] / 100),\n",
    "                                                      ToVolumetric(),\n",
    "                                                      Dihedral(),\n",
    "                                                      Brightness(max_lighting=0.2),\n",
    "                                                      #Contrast(max_lighting=0.1),\n",
    "                                                      #RandomErasing(p=0.25)\n",
    "                                                  ]),\n",
    "                                                  item_tfms=[\n",
    "                                                      ScaleToFloatTensor(div=100)],\n",
    "                                                  #num_workers=0\n",
    "                                                 )\n"
   ]
  },
  {
   "cell_type": "code",
   "execution_count": 13,
   "metadata": {
    "ExecuteTime": {
     "end_time": "2020-08-24T13:11:11.175814Z",
     "start_time": "2020-08-24T13:11:11.134689Z"
    }
   },
   "outputs": [],
   "source": [
    "vmin, vmax = (0.05222363963723183, 5.074245080947874)"
   ]
  },
  {
   "cell_type": "code",
   "execution_count": 14,
   "metadata": {
    "ExecuteTime": {
     "end_time": "2020-08-24T13:11:12.596601Z",
     "start_time": "2020-08-24T13:11:11.494809Z"
    }
   },
   "outputs": [
    {
     "data": {
      "image/png": "[encoded data removed]",
      "text/plain": [
       "<Figure size 1080x1080 with 25 Axes>"
      ]
     },
     "metadata": {
      "needs_background": "light"
     },
     "output_type": "display_data"
    }
   ],
   "source": [
    "dls.show_batch(channels=[82,50,29], scale=True, scale_axis=None, max_n=25, vmin=vmin, vmax=vmax)"
   ]
  },
  {
   "cell_type": "code",
   "execution_count": 15,
   "metadata": {
    "ExecuteTime": {
     "end_time": "2020-08-24T13:11:12.803074Z",
     "start_time": "2020-08-24T13:11:12.598999Z"
    }
   },
   "outputs": [
    {
     "data": {
      "text/plain": [
       "(MultiChannelTensorImage size=64x1x250x21x21,\n",
       " TensorCategory([3, 2, 0, 0, 3, 2, 3, 1, 3, 3, 0, 2, 3, 2, 0, 2, 0, 0, 0, 3, 3, 3, 3, 2,\n",
       "         0, 1, 0, 1, 1, 2, 3, 2, 3, 3, 2, 3, 2, 2, 1, 1, 0, 3, 1, 0, 3, 2, 1, 0,\n",
       "         3, 2, 3, 1, 0, 3, 3, 2, 2, 3, 3, 2, 3, 1, 3, 1], device='cuda:0'))"
      ]
     },
     "execution_count": 15,
     "metadata": {},
     "output_type": "execute_result"
    }
   ],
   "source": [
    "dls.one_batch()"
   ]
  },
  {
   "cell_type": "markdown",
   "metadata": {},
   "source": [
    "# Define model"
   ]
  },
  {
   "cell_type": "markdown",
   "metadata": {},
   "source": [
    "## Some not-so-clean definitions"
   ]
  },
  {
   "cell_type": "code",
   "execution_count": 16,
   "metadata": {
    "ExecuteTime": {
     "end_time": "2020-08-24T13:11:13.757177Z",
     "start_time": "2020-08-24T13:11:13.716242Z"
    }
   },
   "outputs": [],
   "source": [
    "def _conv_func(ndim=2, transpose=False):\n",
    "    \"Return the proper conv `ndim` function, potentially `transposed`.\"\n",
    "    assert 1 <= ndim <=3\n",
    "    return getattr(nn, f'Conv{\"Transpose\" if transpose else \"\"}{ndim}d')"
   ]
  },
  {
   "cell_type": "code",
   "execution_count": 17,
   "metadata": {
    "ExecuteTime": {
     "end_time": "2020-08-24T13:11:14.099982Z",
     "start_time": "2020-08-24T13:11:14.054252Z"
    }
   },
   "outputs": [],
   "source": [
    "class ConvLayer2(nn.Sequential):\n",
    "    \"Create a sequence of convolutional (`ni` to `nf`), ReLU (if `use_activ`) and `norm_type` layers.\"\n",
    "    def __init__(self, ni, nf, ks=3, stride=1, padding=None, bias=None, ndim=2, norm_type=NormType.Batch, bn_1st=True,\n",
    "                 act_cls=defaults.activation, transpose=False, init='auto', xtra=None, bias_std=0.01, **kwargs):\n",
    "        if padding is None:\n",
    "            padding = [1 for _ in range(len(ks))]\n",
    "            for k in range(len(ks)):\n",
    "                padding[k]= ((ks[k]-1)//2 if not transpose else 0)\n",
    "        bn = norm_type in (NormType.Batch, NormType.BatchZero)\n",
    "        inn = norm_type in (NormType.Instance, NormType.InstanceZero)\n",
    "        if bias is None: bias = not (bn or inn)\n",
    "        conv_func = _conv_func(ndim, transpose=transpose)\n",
    "        conv = conv_func(ni, nf, kernel_size=ks, bias=bias, stride=stride, padding=padding, **kwargs)\n",
    "        act = None if act_cls is None else act_cls()\n",
    "        init_linear(conv, act, init=init, bias_std=bias_std)\n",
    "        if   norm_type==NormType.Weight:   conv = weight_norm(conv)\n",
    "        elif norm_type==NormType.Spectral: conv = spectral_norm(conv)\n",
    "        layers = [conv]\n",
    "        act_bn = []\n",
    "        if act is not None: act_bn.append(act)\n",
    "        if bn: act_bn.append(BatchNorm(nf, norm_type=norm_type, ndim=ndim))\n",
    "        if inn: act_bn.append(InstanceNorm(nf, norm_type=norm_type, ndim=ndim))\n",
    "        if bn_1st: act_bn.reverse()\n",
    "        layers += act_bn\n",
    "        if xtra: layers.append(xtra)\n",
    "        super().__init__(*layers)\n"
   ]
  },
  {
   "cell_type": "code",
   "execution_count": 18,
   "metadata": {
    "ExecuteTime": {
     "end_time": "2020-08-24T13:11:14.883746Z",
     "start_time": "2020-08-24T13:11:14.843170Z"
    }
   },
   "outputs": [],
   "source": [
    "def get_simple_3d_resnet(lrs, krns, activ, stride, exps, pad=0, bias=False):\n",
    "    conv = [ConvLayer2(lrs[0], lrs[1], ks=krns[0], ndim=3, stride=strides[0], padding=1)]\n",
    "    net = [ResBlock(exps[i], lrs[i], lrs[i+1], ks=krns[i], ndim=3, stride=strides[i]) for i in range(1, len(krns))]\n",
    "    return SequentialEx(*conv+net)"
   ]
  },
  {
   "cell_type": "code",
   "execution_count": 19,
   "metadata": {
    "ExecuteTime": {
     "end_time": "2020-08-24T13:11:15.225368Z",
     "start_time": "2020-08-24T13:11:15.186383Z"
    }
   },
   "outputs": [],
   "source": [
    "def get_simple_3dcnn(lrs, krns, activ, stride, pad=0,bias=False):\n",
    "    net = [ConvLayer2(lrs[i], lrs[i+1], ks=krns[i], ndim=3, stride=strides[i], padding=pad) for i in range(len(krns))]\n",
    "    return nn.Sequential(*net)"
   ]
  },
  {
   "cell_type": "code",
   "execution_count": 20,
   "metadata": {
    "ExecuteTime": {
     "end_time": "2020-08-24T13:11:15.570355Z",
     "start_time": "2020-08-24T13:11:15.531415Z"
    }
   },
   "outputs": [],
   "source": [
    "def get_simple_3dcnn_pool(lrs, krns, activ, stride, pad=0,bias=False):\n",
    "    net = [nn.Sequential(\n",
    "           nn.Conv3d(lrs[i], lrs[i+1], kernel_size=krns[i], padding=pad, stride=stride[i], bias=bias),\n",
    "           nn.BatchNorm3d(lrs[i+1]),\n",
    "           activ(),\n",
    "           #nn.MaxPool3d(2)\n",
    "    ) for i in range(len(krns))]\n",
    "    return nn.Sequential(*net)"
   ]
  },
  {
   "cell_type": "markdown",
   "metadata": {},
   "source": [
    "## Define network\n",
    "\n",
    "TODO: collect params to some file"
   ]
  },
  {
   "cell_type": "code",
   "execution_count": 22,
   "metadata": {
    "ExecuteTime": {
     "end_time": "2020-08-24T13:11:41.296581Z",
     "start_time": "2020-08-24T13:11:41.249827Z"
    }
   },
   "outputs": [],
   "source": [
    "#activ = Mish\n",
    "activ = nn.ReLU\n",
    "lrs = [1,\n",
    "       32,\n",
    "       32, # Extra for 5m window\n",
    "       64,\n",
    "       64,\n",
    "       128] # define our layers\n",
    "krns = [(10,3,3),\n",
    "        (5,3,3),\n",
    "        (3,3,3),\n",
    "        (3,3,3),\n",
    "        (3,3,3)\n",
    "       ] \n",
    "strides = [(2,1,1), \n",
    "           (2,2,2),\n",
    "           (2,1,1), \n",
    "           (1,2,2), # extra for 5m\n",
    "           (1,1,1)]\n",
    "features =  get_simple_3dcnn_pool(lrs, krns, activ, strides)\n"
   ]
  },
  {
   "cell_type": "code",
   "execution_count": 25,
   "metadata": {
    "ExecuteTime": {
     "end_time": "2020-08-24T13:11:44.157259Z",
     "start_time": "2020-08-24T13:11:44.118521Z"
    }
   },
   "outputs": [
    {
     "data": {
      "text/plain": [
       "Sequential(\n",
       "  (0): Sequential(\n",
       "    (0): Conv3d(1, 32, kernel_size=(10, 3, 3), stride=(2, 1, 1), bias=False)\n",
       "    (1): BatchNorm3d(32, eps=1e-05, momentum=0.1, affine=True, track_running_stats=True)\n",
       "    (2): ReLU()\n",
       "  )\n",
       "  (1): Sequential(\n",
       "    (0): Conv3d(32, 32, kernel_size=(5, 3, 3), stride=(2, 2, 2), bias=False)\n",
       "    (1): BatchNorm3d(32, eps=1e-05, momentum=0.1, affine=True, track_running_stats=True)\n",
       "    (2): ReLU()\n",
       "  )\n",
       "  (2): Sequential(\n",
       "    (0): Conv3d(32, 64, kernel_size=(3, 3, 3), stride=(2, 1, 1), bias=False)\n",
       "    (1): BatchNorm3d(64, eps=1e-05, momentum=0.1, affine=True, track_running_stats=True)\n",
       "    (2): ReLU()\n",
       "  )\n",
       "  (3): Sequential(\n",
       "    (0): Conv3d(64, 64, kernel_size=(3, 3, 3), stride=(1, 2, 2), bias=False)\n",
       "    (1): BatchNorm3d(64, eps=1e-05, momentum=0.1, affine=True, track_running_stats=True)\n",
       "    (2): ReLU()\n",
       "  )\n",
       "  (4): Sequential(\n",
       "    (0): Conv3d(64, 128, kernel_size=(3, 3, 3), stride=(1, 1, 1), bias=False)\n",
       "    (1): BatchNorm3d(128, eps=1e-05, momentum=0.1, affine=True, track_running_stats=True)\n",
       "    (2): ReLU()\n",
       "  )\n",
       ")"
      ]
     },
     "execution_count": 25,
     "metadata": {},
     "output_type": "execute_result"
    }
   ],
   "source": [
    "features"
   ]
  },
  {
   "cell_type": "code",
   "execution_count": 26,
   "metadata": {
    "ExecuteTime": {
     "end_time": "2020-08-24T13:11:48.975283Z",
     "start_time": "2020-08-24T13:11:48.911311Z"
    }
   },
   "outputs": [
    {
     "name": "stdout",
     "output_type": "stream",
     "text": [
      "----------------------------------------------------------------\n",
      "        Layer (type)               Output Shape         Param #\n",
      "================================================================\n",
      "            Conv3d-1      [-1, 32, 121, 19, 19]           2,880\n",
      "       BatchNorm3d-2      [-1, 32, 121, 19, 19]              64\n",
      "              ReLU-3      [-1, 32, 121, 19, 19]               0\n",
      "            Conv3d-4         [-1, 32, 59, 9, 9]          46,080\n",
      "       BatchNorm3d-5         [-1, 32, 59, 9, 9]              64\n",
      "              ReLU-6         [-1, 32, 59, 9, 9]               0\n",
      "            Conv3d-7         [-1, 64, 29, 7, 7]          55,296\n",
      "       BatchNorm3d-8         [-1, 64, 29, 7, 7]             128\n",
      "              ReLU-9         [-1, 64, 29, 7, 7]               0\n",
      "           Conv3d-10         [-1, 64, 27, 3, 3]         110,592\n",
      "      BatchNorm3d-11         [-1, 64, 27, 3, 3]             128\n",
      "             ReLU-12         [-1, 64, 27, 3, 3]               0\n",
      "           Conv3d-13        [-1, 128, 25, 1, 1]         221,184\n",
      "      BatchNorm3d-14        [-1, 128, 25, 1, 1]             256\n",
      "             ReLU-15        [-1, 128, 25, 1, 1]               0\n",
      "================================================================\n",
      "Total params: 436,672\n",
      "Trainable params: 436,672\n",
      "Non-trainable params: 0\n",
      "----------------------------------------------------------------\n",
      "Input size (MB): 0.42\n",
      "Forward/backward pass size (MB): 38.00\n",
      "Params size (MB): 1.67\n",
      "Estimated Total Size (MB): 40.09\n",
      "----------------------------------------------------------------\n"
     ]
    }
   ],
   "source": [
    "from torchsummary import summary\n",
    "summary(features.cuda(), input_size=(1,250,21,21))"
   ]
  },
  {
   "cell_type": "code",
   "execution_count": 27,
   "metadata": {
    "ExecuteTime": {
     "end_time": "2020-08-24T13:11:53.438521Z",
     "start_time": "2020-08-24T13:11:53.387545Z"
    }
   },
   "outputs": [],
   "source": [
    "flat_shp = lrs[-1] * 25\n",
    "dropout_pct = 0.5\n",
    "classifier = nn.Sequential(\n",
    "                           nn.Linear(flat_shp, 512, bias=False), \n",
    "                           activ(), \n",
    "                           nn.Dropout(dropout_pct), \n",
    "                           nn.BatchNorm1d(512), \n",
    "                           nn.Linear(512, dls.c))"
   ]
  },
  {
   "cell_type": "code",
   "execution_count": 28,
   "metadata": {
    "ExecuteTime": {
     "end_time": "2020-08-24T13:11:54.545803Z",
     "start_time": "2020-08-24T13:11:54.506654Z"
    }
   },
   "outputs": [
    {
     "data": {
      "text/plain": [
       "3200"
      ]
     },
     "execution_count": 28,
     "metadata": {},
     "output_type": "execute_result"
    }
   ],
   "source": [
    "flat_shp"
   ]
  },
  {
   "cell_type": "code",
   "execution_count": 29,
   "metadata": {
    "ExecuteTime": {
     "end_time": "2020-08-24T13:12:01.221580Z",
     "start_time": "2020-08-24T13:12:01.182310Z"
    }
   },
   "outputs": [],
   "source": [
    "model = SimpleNet(features, classifier)"
   ]
  },
  {
   "cell_type": "code",
   "execution_count": 30,
   "metadata": {
    "ExecuteTime": {
     "end_time": "2020-08-24T13:12:01.825036Z",
     "start_time": "2020-08-24T13:12:01.776401Z"
    }
   },
   "outputs": [
    {
     "name": "stdout",
     "output_type": "stream",
     "text": [
      "----------------------------------------------------------------\n",
      "        Layer (type)               Output Shape         Param #\n",
      "================================================================\n",
      "            Conv3d-1      [-1, 32, 121, 19, 19]           2,880\n",
      "       BatchNorm3d-2      [-1, 32, 121, 19, 19]              64\n",
      "              ReLU-3      [-1, 32, 121, 19, 19]               0\n",
      "            Conv3d-4         [-1, 32, 59, 9, 9]          46,080\n",
      "       BatchNorm3d-5         [-1, 32, 59, 9, 9]              64\n",
      "              ReLU-6         [-1, 32, 59, 9, 9]               0\n",
      "            Conv3d-7         [-1, 64, 29, 7, 7]          55,296\n",
      "       BatchNorm3d-8         [-1, 64, 29, 7, 7]             128\n",
      "              ReLU-9         [-1, 64, 29, 7, 7]               0\n",
      "           Conv3d-10         [-1, 64, 27, 3, 3]         110,592\n",
      "      BatchNorm3d-11         [-1, 64, 27, 3, 3]             128\n",
      "             ReLU-12         [-1, 64, 27, 3, 3]               0\n",
      "           Conv3d-13        [-1, 128, 25, 1, 1]         221,184\n",
      "      BatchNorm3d-14        [-1, 128, 25, 1, 1]             256\n",
      "             ReLU-15        [-1, 128, 25, 1, 1]               0\n",
      "           Linear-16                  [-1, 512]       1,638,400\n",
      "             ReLU-17                  [-1, 512]               0\n",
      "          Dropout-18                  [-1, 512]               0\n",
      "      BatchNorm1d-19                  [-1, 512]           1,024\n",
      "           Linear-20                    [-1, 4]           2,052\n",
      "================================================================\n",
      "Total params: 2,078,148\n",
      "Trainable params: 2,078,148\n",
      "Non-trainable params: 0\n",
      "----------------------------------------------------------------\n",
      "Input size (MB): 0.42\n",
      "Forward/backward pass size (MB): 38.02\n",
      "Params size (MB): 7.93\n",
      "Estimated Total Size (MB): 46.37\n",
      "----------------------------------------------------------------\n"
     ]
    }
   ],
   "source": [
    "from torchsummary import summary\n",
    "summary(model.cuda(), input_size=(1,250,21,21))"
   ]
  },
  {
   "cell_type": "code",
   "execution_count": 31,
   "metadata": {
    "ExecuteTime": {
     "end_time": "2020-08-24T13:12:04.970689Z",
     "start_time": "2020-08-24T13:12:04.931675Z"
    }
   },
   "outputs": [],
   "source": [
    "from fastai2.callback.all import *"
   ]
  },
  {
   "cell_type": "code",
   "execution_count": 32,
   "metadata": {
    "ExecuteTime": {
     "end_time": "2020-08-24T13:12:05.288275Z",
     "start_time": "2020-08-24T13:12:05.250845Z"
    }
   },
   "outputs": [],
   "source": [
    "import sklearn.metrics as skm"
   ]
  },
  {
   "cell_type": "code",
   "execution_count": 33,
   "metadata": {
    "ExecuteTime": {
     "end_time": "2020-08-24T13:12:05.628363Z",
     "start_time": "2020-08-24T13:12:05.590384Z"
    }
   },
   "outputs": [],
   "source": [
    "def CohenKappaFix(axis=-1, labels=None, weights=None, sample_weight=None):\n",
    "    \"Cohen kappa for single-label classification problems\"\n",
    "    return skm_to_fastai(skm.cohen_kappa_score, axis=axis,\n",
    "                         sample_weight=sample_weight, labels=labels, weights=weights)"
   ]
  },
  {
   "cell_type": "markdown",
   "metadata": {},
   "source": [
    "# Train model"
   ]
  },
  {
   "cell_type": "code",
   "execution_count": 34,
   "metadata": {
    "ExecuteTime": {
     "end_time": "2020-08-24T13:12:09.606288Z",
     "start_time": "2020-08-24T13:12:09.563195Z"
    }
   },
   "outputs": [],
   "source": [
    "reset_seed(12)\n",
    "f1 = F1Score(average='macro')\n",
    "precision = Precision(average='macro')\n",
    "recall = Recall(average='macro')\n",
    "kappa = CohenKappaFix()\n",
    "mixup = MixUp()\n",
    "learn = Learner(dls, model, \n",
    "                loss_func=LabelSmoothingCrossEntropy(), \n",
    "                path=Path('fastai_models/5m_relu_fixed'), model_dir='models',\n",
    "                metrics=[accuracy,  precision, recall, f1, kappa], \n",
    "                opt_func=partial(Adam, lr=slice(3e-3), wd=0.01, eps=1e-8),\n",
    "                cbs=[\n",
    "                    ShowGraphCallback(), \n",
    "                    SaveModelCallback(monitor='f1_score'),\n",
    "                    mixup\n",
    "                ])"
   ]
  },
  {
   "cell_type": "code",
   "execution_count": 35,
   "metadata": {
    "ExecuteTime": {
     "end_time": "2020-08-24T13:12:10.273841Z",
     "start_time": "2020-08-24T13:12:10.235283Z"
    }
   },
   "outputs": [],
   "source": [
    "apply_init(learn.model)"
   ]
  },
  {
   "cell_type": "code",
   "execution_count": 36,
   "metadata": {
    "ExecuteTime": {
     "end_time": "2020-08-24T13:12:10.887326Z",
     "start_time": "2020-08-24T13:12:10.690331Z"
    },
    "scrolled": false
   },
   "outputs": [
    {
     "data": {
      "text/plain": [
       "SimpleNet (Input shape: ['64 x 1 x 250 x 21 x 21'])\n",
       "================================================================\n",
       "Layer (type)         Output Shape         Param #    Trainable \n",
       "================================================================\n",
       "Conv3d               64 x 32 x 121 x 19   2,880      True      \n",
       "________________________________________________________________\n",
       "BatchNorm3d          64 x 32 x 121 x 19   64         True      \n",
       "________________________________________________________________\n",
       "ReLU                 64 x 32 x 121 x 19   0          False     \n",
       "________________________________________________________________\n",
       "Conv3d               64 x 32 x 59 x 9 x   46,080     True      \n",
       "________________________________________________________________\n",
       "BatchNorm3d          64 x 32 x 59 x 9 x   64         True      \n",
       "________________________________________________________________\n",
       "ReLU                 64 x 32 x 59 x 9 x   0          False     \n",
       "________________________________________________________________\n",
       "Conv3d               64 x 64 x 29 x 7 x   55,296     True      \n",
       "________________________________________________________________\n",
       "BatchNorm3d          64 x 64 x 29 x 7 x   128        True      \n",
       "________________________________________________________________\n",
       "ReLU                 64 x 64 x 29 x 7 x   0          False     \n",
       "________________________________________________________________\n",
       "Conv3d               64 x 64 x 27 x 3 x   110,592    True      \n",
       "________________________________________________________________\n",
       "BatchNorm3d          64 x 64 x 27 x 3 x   128        True      \n",
       "________________________________________________________________\n",
       "ReLU                 64 x 64 x 27 x 3 x   0          False     \n",
       "________________________________________________________________\n",
       "Conv3d               64 x 128 x 25 x 1 x  221,184    True      \n",
       "________________________________________________________________\n",
       "BatchNorm3d          64 x 128 x 25 x 1 x  256        True      \n",
       "________________________________________________________________\n",
       "ReLU                 64 x 128 x 25 x 1 x  0          False     \n",
       "________________________________________________________________\n",
       "Linear               64 x 512             1,638,400  True      \n",
       "________________________________________________________________\n",
       "ReLU                 64 x 512             0          False     \n",
       "________________________________________________________________\n",
       "Dropout              64 x 512             0          False     \n",
       "________________________________________________________________\n",
       "BatchNorm1d          64 x 512             1,024      True      \n",
       "________________________________________________________________\n",
       "Linear               64 x 4               2,052      True      \n",
       "________________________________________________________________\n",
       "\n",
       "Total params: 2,078,148\n",
       "Total trainable params: 2,078,148\n",
       "Total non-trainable params: 0\n",
       "\n",
       "Optimizer used: functools.partial(<function Adam at 0x7f7717abaef0>, lr=slice(None, 0.003, None), wd=0.01, eps=1e-08)\n",
       "Loss function: LabelSmoothingCrossEntropy()\n",
       "\n",
       "Callbacks:\n",
       "  - TrainEvalCallback\n",
       "  - Recorder\n",
       "  - ProgressCallback\n",
       "  - ShowGraphCallback\n",
       "  - SaveModelCallback\n",
       "  - MixUp"
      ]
     },
     "execution_count": 36,
     "metadata": {},
     "output_type": "execute_result"
    }
   ],
   "source": [
    "learn.summary()"
   ]
  },
  {
   "cell_type": "code",
   "execution_count": 37,
   "metadata": {
    "ExecuteTime": {
     "end_time": "2020-08-24T13:12:33.658197Z",
     "start_time": "2020-08-24T13:12:12.139894Z"
    }
   },
   "outputs": [
    {
     "data": {
      "text/html": [],
      "text/plain": [
       "<IPython.core.display.HTML object>"
      ]
     },
     "metadata": {},
     "output_type": "display_data"
    },
    {
     "data": {
      "text/plain": [
       "SuggestedLRs(lr_min=0.010000000149011612, lr_steep=0.0004786300996784121)"
      ]
     },
     "execution_count": 37,
     "metadata": {},
     "output_type": "execute_result"
    },
    {
     "data": {
      "image/png": "[encoded data removed]",
      "text/plain": [
       "<Figure size 432x288 with 1 Axes>"
      ]
     },
     "metadata": {
      "needs_background": "light"
     },
     "output_type": "display_data"
    }
   ],
   "source": [
    "learn.lr_find(suggestions=True)"
   ]
  },
  {
   "cell_type": "code",
   "execution_count": 38,
   "metadata": {
    "ExecuteTime": {
     "end_time": "2020-08-24T13:27:41.595510Z",
     "start_time": "2020-08-24T13:12:38.292235Z"
    },
    "scrolled": false
   },
   "outputs": [
    {
     "data": {
      "text/html": [
       "<table border=\"1\" class=\"dataframe\">\n",
       "  <thead>\n",
       "    <tr style=\"text-align: left;\">\n",
       "      <th>epoch</th>\n",
       "      <th>train_loss</th>\n",
       "      <th>valid_loss</th>\n",
       "      <th>accuracy</th>\n",
       "      <th>precision_score</th>\n",
       "      <th>recall_score</th>\n",
       "      <th>f1_score</th>\n",
       "      <th>cohen_kappa_score</th>\n",
       "      <th>time</th>\n",
       "    </tr>\n",
       "  </thead>\n",
       "  <tbody>\n",
       "    <tr>\n",
       "      <td>0</td>\n",
       "      <td>1.813296</td>\n",
       "      <td>1.314503</td>\n",
       "      <td>0.548944</td>\n",
       "      <td>0.505198</td>\n",
       "      <td>0.479385</td>\n",
       "      <td>0.478025</td>\n",
       "      <td>0.341648</td>\n",
       "      <td>00:10</td>\n",
       "    </tr>\n",
       "    <tr>\n",
       "      <td>1</td>\n",
       "      <td>1.657228</td>\n",
       "      <td>1.215115</td>\n",
       "      <td>0.595010</td>\n",
       "      <td>0.575849</td>\n",
       "      <td>0.539170</td>\n",
       "      <td>0.542416</td>\n",
       "      <td>0.411728</td>\n",
       "      <td>00:08</td>\n",
       "    </tr>\n",
       "    <tr>\n",
       "      <td>2</td>\n",
       "      <td>1.555018</td>\n",
       "      <td>1.179019</td>\n",
       "      <td>0.596929</td>\n",
       "      <td>0.553485</td>\n",
       "      <td>0.533257</td>\n",
       "      <td>0.536298</td>\n",
       "      <td>0.416539</td>\n",
       "      <td>00:08</td>\n",
       "    </tr>\n",
       "    <tr>\n",
       "      <td>3</td>\n",
       "      <td>1.498796</td>\n",
       "      <td>1.164119</td>\n",
       "      <td>0.602687</td>\n",
       "      <td>0.555165</td>\n",
       "      <td>0.545972</td>\n",
       "      <td>0.544253</td>\n",
       "      <td>0.430499</td>\n",
       "      <td>00:08</td>\n",
       "    </tr>\n",
       "    <tr>\n",
       "      <td>4</td>\n",
       "      <td>1.450574</td>\n",
       "      <td>1.077839</td>\n",
       "      <td>0.625720</td>\n",
       "      <td>0.580126</td>\n",
       "      <td>0.572568</td>\n",
       "      <td>0.571024</td>\n",
       "      <td>0.466068</td>\n",
       "      <td>00:08</td>\n",
       "    </tr>\n",
       "    <tr>\n",
       "      <td>5</td>\n",
       "      <td>1.403990</td>\n",
       "      <td>1.029019</td>\n",
       "      <td>0.667946</td>\n",
       "      <td>0.641316</td>\n",
       "      <td>0.612413</td>\n",
       "      <td>0.608777</td>\n",
       "      <td>0.520230</td>\n",
       "      <td>00:08</td>\n",
       "    </tr>\n",
       "    <tr>\n",
       "      <td>6</td>\n",
       "      <td>1.364511</td>\n",
       "      <td>1.011126</td>\n",
       "      <td>0.662188</td>\n",
       "      <td>0.605095</td>\n",
       "      <td>0.595482</td>\n",
       "      <td>0.594193</td>\n",
       "      <td>0.516310</td>\n",
       "      <td>00:08</td>\n",
       "    </tr>\n",
       "    <tr>\n",
       "      <td>7</td>\n",
       "      <td>1.342782</td>\n",
       "      <td>0.968902</td>\n",
       "      <td>0.660269</td>\n",
       "      <td>0.628977</td>\n",
       "      <td>0.595565</td>\n",
       "      <td>0.598913</td>\n",
       "      <td>0.509421</td>\n",
       "      <td>00:08</td>\n",
       "    </tr>\n",
       "    <tr>\n",
       "      <td>8</td>\n",
       "      <td>1.312583</td>\n",
       "      <td>0.968904</td>\n",
       "      <td>0.725528</td>\n",
       "      <td>0.719381</td>\n",
       "      <td>0.672781</td>\n",
       "      <td>0.684874</td>\n",
       "      <td>0.602636</td>\n",
       "      <td>00:08</td>\n",
       "    </tr>\n",
       "    <tr>\n",
       "      <td>9</td>\n",
       "      <td>1.284514</td>\n",
       "      <td>1.006075</td>\n",
       "      <td>0.710173</td>\n",
       "      <td>0.733090</td>\n",
       "      <td>0.660750</td>\n",
       "      <td>0.656703</td>\n",
       "      <td>0.582961</td>\n",
       "      <td>00:08</td>\n",
       "    </tr>\n",
       "    <tr>\n",
       "      <td>10</td>\n",
       "      <td>1.255311</td>\n",
       "      <td>1.002941</td>\n",
       "      <td>0.664108</td>\n",
       "      <td>0.650142</td>\n",
       "      <td>0.617300</td>\n",
       "      <td>0.596080</td>\n",
       "      <td>0.527627</td>\n",
       "      <td>00:08</td>\n",
       "    </tr>\n",
       "    <tr>\n",
       "      <td>11</td>\n",
       "      <td>1.220517</td>\n",
       "      <td>0.967916</td>\n",
       "      <td>0.714011</td>\n",
       "      <td>0.723281</td>\n",
       "      <td>0.667119</td>\n",
       "      <td>0.652424</td>\n",
       "      <td>0.592135</td>\n",
       "      <td>00:08</td>\n",
       "    </tr>\n",
       "    <tr>\n",
       "      <td>12</td>\n",
       "      <td>1.184220</td>\n",
       "      <td>0.921916</td>\n",
       "      <td>0.712092</td>\n",
       "      <td>0.703666</td>\n",
       "      <td>0.663898</td>\n",
       "      <td>0.663479</td>\n",
       "      <td>0.588296</td>\n",
       "      <td>00:08</td>\n",
       "    </tr>\n",
       "    <tr>\n",
       "      <td>13</td>\n",
       "      <td>1.162630</td>\n",
       "      <td>0.916230</td>\n",
       "      <td>0.704415</td>\n",
       "      <td>0.711020</td>\n",
       "      <td>0.664266</td>\n",
       "      <td>0.654352</td>\n",
       "      <td>0.579511</td>\n",
       "      <td>00:08</td>\n",
       "    </tr>\n",
       "    <tr>\n",
       "      <td>14</td>\n",
       "      <td>1.149409</td>\n",
       "      <td>0.897480</td>\n",
       "      <td>0.721689</td>\n",
       "      <td>0.749969</td>\n",
       "      <td>0.678851</td>\n",
       "      <td>0.671903</td>\n",
       "      <td>0.601827</td>\n",
       "      <td>00:08</td>\n",
       "    </tr>\n",
       "    <tr>\n",
       "      <td>15</td>\n",
       "      <td>1.117388</td>\n",
       "      <td>0.826094</td>\n",
       "      <td>0.758157</td>\n",
       "      <td>0.769720</td>\n",
       "      <td>0.721955</td>\n",
       "      <td>0.723134</td>\n",
       "      <td>0.654577</td>\n",
       "      <td>00:08</td>\n",
       "    </tr>\n",
       "    <tr>\n",
       "      <td>16</td>\n",
       "      <td>1.077276</td>\n",
       "      <td>0.804292</td>\n",
       "      <td>0.783109</td>\n",
       "      <td>0.782020</td>\n",
       "      <td>0.775256</td>\n",
       "      <td>0.769923</td>\n",
       "      <td>0.693389</td>\n",
       "      <td>00:08</td>\n",
       "    </tr>\n",
       "    <tr>\n",
       "      <td>17</td>\n",
       "      <td>1.062208</td>\n",
       "      <td>0.864048</td>\n",
       "      <td>0.752399</td>\n",
       "      <td>0.751882</td>\n",
       "      <td>0.730007</td>\n",
       "      <td>0.731335</td>\n",
       "      <td>0.647349</td>\n",
       "      <td>00:08</td>\n",
       "    </tr>\n",
       "    <tr>\n",
       "      <td>18</td>\n",
       "      <td>1.033697</td>\n",
       "      <td>0.842691</td>\n",
       "      <td>0.760077</td>\n",
       "      <td>0.735463</td>\n",
       "      <td>0.730435</td>\n",
       "      <td>0.731128</td>\n",
       "      <td>0.658151</td>\n",
       "      <td>00:08</td>\n",
       "    </tr>\n",
       "    <tr>\n",
       "      <td>19</td>\n",
       "      <td>1.017514</td>\n",
       "      <td>0.859687</td>\n",
       "      <td>0.731286</td>\n",
       "      <td>0.755594</td>\n",
       "      <td>0.704759</td>\n",
       "      <td>0.686780</td>\n",
       "      <td>0.624005</td>\n",
       "      <td>00:08</td>\n",
       "    </tr>\n",
       "    <tr>\n",
       "      <td>20</td>\n",
       "      <td>1.018280</td>\n",
       "      <td>0.813351</td>\n",
       "      <td>0.781190</td>\n",
       "      <td>0.785499</td>\n",
       "      <td>0.743396</td>\n",
       "      <td>0.751587</td>\n",
       "      <td>0.685140</td>\n",
       "      <td>00:08</td>\n",
       "    </tr>\n",
       "    <tr>\n",
       "      <td>21</td>\n",
       "      <td>0.990605</td>\n",
       "      <td>0.818761</td>\n",
       "      <td>0.769674</td>\n",
       "      <td>0.776753</td>\n",
       "      <td>0.732232</td>\n",
       "      <td>0.735669</td>\n",
       "      <td>0.669943</td>\n",
       "      <td>00:08</td>\n",
       "    </tr>\n",
       "    <tr>\n",
       "      <td>22</td>\n",
       "      <td>0.971003</td>\n",
       "      <td>0.795803</td>\n",
       "      <td>0.779271</td>\n",
       "      <td>0.783677</td>\n",
       "      <td>0.764959</td>\n",
       "      <td>0.768664</td>\n",
       "      <td>0.685547</td>\n",
       "      <td>00:08</td>\n",
       "    </tr>\n",
       "    <tr>\n",
       "      <td>23</td>\n",
       "      <td>0.964951</td>\n",
       "      <td>0.786973</td>\n",
       "      <td>0.798464</td>\n",
       "      <td>0.781790</td>\n",
       "      <td>0.776291</td>\n",
       "      <td>0.773846</td>\n",
       "      <td>0.714439</td>\n",
       "      <td>00:08</td>\n",
       "    </tr>\n",
       "    <tr>\n",
       "      <td>24</td>\n",
       "      <td>0.955974</td>\n",
       "      <td>0.856770</td>\n",
       "      <td>0.737044</td>\n",
       "      <td>0.746185</td>\n",
       "      <td>0.696262</td>\n",
       "      <td>0.692867</td>\n",
       "      <td>0.625414</td>\n",
       "      <td>00:08</td>\n",
       "    </tr>\n",
       "    <tr>\n",
       "      <td>25</td>\n",
       "      <td>0.960879</td>\n",
       "      <td>0.846481</td>\n",
       "      <td>0.790787</td>\n",
       "      <td>0.755744</td>\n",
       "      <td>0.756049</td>\n",
       "      <td>0.753705</td>\n",
       "      <td>0.702337</td>\n",
       "      <td>00:08</td>\n",
       "    </tr>\n",
       "    <tr>\n",
       "      <td>26</td>\n",
       "      <td>0.940986</td>\n",
       "      <td>0.779088</td>\n",
       "      <td>0.804223</td>\n",
       "      <td>0.793909</td>\n",
       "      <td>0.766862</td>\n",
       "      <td>0.777643</td>\n",
       "      <td>0.718741</td>\n",
       "      <td>00:08</td>\n",
       "    </tr>\n",
       "    <tr>\n",
       "      <td>27</td>\n",
       "      <td>0.922009</td>\n",
       "      <td>0.852511</td>\n",
       "      <td>0.765835</td>\n",
       "      <td>0.734236</td>\n",
       "      <td>0.740747</td>\n",
       "      <td>0.731569</td>\n",
       "      <td>0.670842</td>\n",
       "      <td>00:08</td>\n",
       "    </tr>\n",
       "    <tr>\n",
       "      <td>28</td>\n",
       "      <td>0.914963</td>\n",
       "      <td>0.871110</td>\n",
       "      <td>0.748560</td>\n",
       "      <td>0.765646</td>\n",
       "      <td>0.710513</td>\n",
       "      <td>0.709711</td>\n",
       "      <td>0.639602</td>\n",
       "      <td>00:08</td>\n",
       "    </tr>\n",
       "    <tr>\n",
       "      <td>29</td>\n",
       "      <td>0.904697</td>\n",
       "      <td>0.772425</td>\n",
       "      <td>0.811900</td>\n",
       "      <td>0.809798</td>\n",
       "      <td>0.803372</td>\n",
       "      <td>0.798829</td>\n",
       "      <td>0.733605</td>\n",
       "      <td>00:08</td>\n",
       "    </tr>\n",
       "    <tr>\n",
       "      <td>30</td>\n",
       "      <td>0.894284</td>\n",
       "      <td>0.748766</td>\n",
       "      <td>0.827255</td>\n",
       "      <td>0.812811</td>\n",
       "      <td>0.807945</td>\n",
       "      <td>0.806166</td>\n",
       "      <td>0.755031</td>\n",
       "      <td>00:08</td>\n",
       "    </tr>\n",
       "    <tr>\n",
       "      <td>31</td>\n",
       "      <td>0.887260</td>\n",
       "      <td>0.871913</td>\n",
       "      <td>0.742802</td>\n",
       "      <td>0.760127</td>\n",
       "      <td>0.692085</td>\n",
       "      <td>0.674051</td>\n",
       "      <td>0.634916</td>\n",
       "      <td>00:08</td>\n",
       "    </tr>\n",
       "    <tr>\n",
       "      <td>32</td>\n",
       "      <td>0.876617</td>\n",
       "      <td>0.750560</td>\n",
       "      <td>0.817658</td>\n",
       "      <td>0.805755</td>\n",
       "      <td>0.796956</td>\n",
       "      <td>0.789775</td>\n",
       "      <td>0.742705</td>\n",
       "      <td>00:08</td>\n",
       "    </tr>\n",
       "    <tr>\n",
       "      <td>33</td>\n",
       "      <td>0.862403</td>\n",
       "      <td>0.715665</td>\n",
       "      <td>0.823417</td>\n",
       "      <td>0.811145</td>\n",
       "      <td>0.803857</td>\n",
       "      <td>0.799154</td>\n",
       "      <td>0.750245</td>\n",
       "      <td>00:08</td>\n",
       "    </tr>\n",
       "    <tr>\n",
       "      <td>34</td>\n",
       "      <td>0.858247</td>\n",
       "      <td>0.729152</td>\n",
       "      <td>0.834933</td>\n",
       "      <td>0.823605</td>\n",
       "      <td>0.822405</td>\n",
       "      <td>0.816987</td>\n",
       "      <td>0.766455</td>\n",
       "      <td>00:08</td>\n",
       "    </tr>\n",
       "    <tr>\n",
       "      <td>35</td>\n",
       "      <td>0.860853</td>\n",
       "      <td>0.792774</td>\n",
       "      <td>0.792706</td>\n",
       "      <td>0.791901</td>\n",
       "      <td>0.755559</td>\n",
       "      <td>0.754072</td>\n",
       "      <td>0.704824</td>\n",
       "      <td>00:08</td>\n",
       "    </tr>\n",
       "    <tr>\n",
       "      <td>36</td>\n",
       "      <td>0.856474</td>\n",
       "      <td>0.709516</td>\n",
       "      <td>0.836852</td>\n",
       "      <td>0.810753</td>\n",
       "      <td>0.811133</td>\n",
       "      <td>0.808941</td>\n",
       "      <td>0.768673</td>\n",
       "      <td>00:08</td>\n",
       "    </tr>\n",
       "    <tr>\n",
       "      <td>37</td>\n",
       "      <td>0.851465</td>\n",
       "      <td>0.723406</td>\n",
       "      <td>0.844530</td>\n",
       "      <td>0.831574</td>\n",
       "      <td>0.816821</td>\n",
       "      <td>0.822166</td>\n",
       "      <td>0.777802</td>\n",
       "      <td>00:08</td>\n",
       "    </tr>\n",
       "    <tr>\n",
       "      <td>38</td>\n",
       "      <td>0.841185</td>\n",
       "      <td>0.728791</td>\n",
       "      <td>0.827255</td>\n",
       "      <td>0.817532</td>\n",
       "      <td>0.808323</td>\n",
       "      <td>0.802803</td>\n",
       "      <td>0.755797</td>\n",
       "      <td>00:08</td>\n",
       "    </tr>\n",
       "    <tr>\n",
       "      <td>39</td>\n",
       "      <td>0.839089</td>\n",
       "      <td>0.781419</td>\n",
       "      <td>0.815739</td>\n",
       "      <td>0.804638</td>\n",
       "      <td>0.793347</td>\n",
       "      <td>0.792809</td>\n",
       "      <td>0.738203</td>\n",
       "      <td>00:08</td>\n",
       "    </tr>\n",
       "    <tr>\n",
       "      <td>40</td>\n",
       "      <td>0.826216</td>\n",
       "      <td>0.791632</td>\n",
       "      <td>0.783109</td>\n",
       "      <td>0.782939</td>\n",
       "      <td>0.738906</td>\n",
       "      <td>0.726962</td>\n",
       "      <td>0.693306</td>\n",
       "      <td>00:08</td>\n",
       "    </tr>\n",
       "    <tr>\n",
       "      <td>41</td>\n",
       "      <td>0.828309</td>\n",
       "      <td>0.764750</td>\n",
       "      <td>0.806142</td>\n",
       "      <td>0.789650</td>\n",
       "      <td>0.765777</td>\n",
       "      <td>0.771420</td>\n",
       "      <td>0.722902</td>\n",
       "      <td>00:08</td>\n",
       "    </tr>\n",
       "    <tr>\n",
       "      <td>42</td>\n",
       "      <td>0.830019</td>\n",
       "      <td>0.745737</td>\n",
       "      <td>0.815739</td>\n",
       "      <td>0.796485</td>\n",
       "      <td>0.789710</td>\n",
       "      <td>0.791477</td>\n",
       "      <td>0.737603</td>\n",
       "      <td>00:08</td>\n",
       "    </tr>\n",
       "    <tr>\n",
       "      <td>43</td>\n",
       "      <td>0.825308</td>\n",
       "      <td>0.785256</td>\n",
       "      <td>0.785029</td>\n",
       "      <td>0.787021</td>\n",
       "      <td>0.731795</td>\n",
       "      <td>0.724943</td>\n",
       "      <td>0.693970</td>\n",
       "      <td>00:08</td>\n",
       "    </tr>\n",
       "    <tr>\n",
       "      <td>44</td>\n",
       "      <td>0.819835</td>\n",
       "      <td>0.730227</td>\n",
       "      <td>0.829175</td>\n",
       "      <td>0.823153</td>\n",
       "      <td>0.805285</td>\n",
       "      <td>0.810235</td>\n",
       "      <td>0.755899</td>\n",
       "      <td>00:08</td>\n",
       "    </tr>\n",
       "    <tr>\n",
       "      <td>45</td>\n",
       "      <td>0.807083</td>\n",
       "      <td>0.701780</td>\n",
       "      <td>0.829175</td>\n",
       "      <td>0.812655</td>\n",
       "      <td>0.799007</td>\n",
       "      <td>0.800912</td>\n",
       "      <td>0.756688</td>\n",
       "      <td>00:08</td>\n",
       "    </tr>\n",
       "    <tr>\n",
       "      <td>46</td>\n",
       "      <td>0.796817</td>\n",
       "      <td>0.748173</td>\n",
       "      <td>0.815739</td>\n",
       "      <td>0.803490</td>\n",
       "      <td>0.768654</td>\n",
       "      <td>0.781010</td>\n",
       "      <td>0.734791</td>\n",
       "      <td>00:08</td>\n",
       "    </tr>\n",
       "    <tr>\n",
       "      <td>47</td>\n",
       "      <td>0.794339</td>\n",
       "      <td>0.708422</td>\n",
       "      <td>0.831094</td>\n",
       "      <td>0.816039</td>\n",
       "      <td>0.811586</td>\n",
       "      <td>0.810830</td>\n",
       "      <td>0.760316</td>\n",
       "      <td>00:08</td>\n",
       "    </tr>\n",
       "    <tr>\n",
       "      <td>48</td>\n",
       "      <td>0.792038</td>\n",
       "      <td>0.939100</td>\n",
       "      <td>0.704415</td>\n",
       "      <td>0.780709</td>\n",
       "      <td>0.697946</td>\n",
       "      <td>0.707532</td>\n",
       "      <td>0.580458</td>\n",
       "      <td>00:08</td>\n",
       "    </tr>\n",
       "    <tr>\n",
       "      <td>49</td>\n",
       "      <td>0.802451</td>\n",
       "      <td>0.703486</td>\n",
       "      <td>0.838772</td>\n",
       "      <td>0.821732</td>\n",
       "      <td>0.818670</td>\n",
       "      <td>0.817956</td>\n",
       "      <td>0.770906</td>\n",
       "      <td>00:08</td>\n",
       "    </tr>\n",
       "    <tr>\n",
       "      <td>50</td>\n",
       "      <td>0.792285</td>\n",
       "      <td>0.707343</td>\n",
       "      <td>0.825336</td>\n",
       "      <td>0.808117</td>\n",
       "      <td>0.788488</td>\n",
       "      <td>0.786344</td>\n",
       "      <td>0.752072</td>\n",
       "      <td>00:08</td>\n",
       "    </tr>\n",
       "    <tr>\n",
       "      <td>51</td>\n",
       "      <td>0.785329</td>\n",
       "      <td>0.706272</td>\n",
       "      <td>0.819578</td>\n",
       "      <td>0.803312</td>\n",
       "      <td>0.783044</td>\n",
       "      <td>0.788151</td>\n",
       "      <td>0.742161</td>\n",
       "      <td>00:08</td>\n",
       "    </tr>\n",
       "    <tr>\n",
       "      <td>52</td>\n",
       "      <td>0.777256</td>\n",
       "      <td>0.686315</td>\n",
       "      <td>0.850288</td>\n",
       "      <td>0.836079</td>\n",
       "      <td>0.824488</td>\n",
       "      <td>0.828962</td>\n",
       "      <td>0.786359</td>\n",
       "      <td>00:08</td>\n",
       "    </tr>\n",
       "    <tr>\n",
       "      <td>53</td>\n",
       "      <td>0.780340</td>\n",
       "      <td>0.725139</td>\n",
       "      <td>0.836852</td>\n",
       "      <td>0.819331</td>\n",
       "      <td>0.825668</td>\n",
       "      <td>0.821018</td>\n",
       "      <td>0.769074</td>\n",
       "      <td>00:08</td>\n",
       "    </tr>\n",
       "    <tr>\n",
       "      <td>54</td>\n",
       "      <td>0.777564</td>\n",
       "      <td>0.702161</td>\n",
       "      <td>0.842610</td>\n",
       "      <td>0.828475</td>\n",
       "      <td>0.817373</td>\n",
       "      <td>0.817939</td>\n",
       "      <td>0.776024</td>\n",
       "      <td>00:08</td>\n",
       "    </tr>\n",
       "    <tr>\n",
       "      <td>55</td>\n",
       "      <td>0.764721</td>\n",
       "      <td>0.722690</td>\n",
       "      <td>0.823417</td>\n",
       "      <td>0.810229</td>\n",
       "      <td>0.782492</td>\n",
       "      <td>0.790659</td>\n",
       "      <td>0.746965</td>\n",
       "      <td>00:08</td>\n",
       "    </tr>\n",
       "    <tr>\n",
       "      <td>56</td>\n",
       "      <td>0.774902</td>\n",
       "      <td>0.761275</td>\n",
       "      <td>0.790787</td>\n",
       "      <td>0.774177</td>\n",
       "      <td>0.734430</td>\n",
       "      <td>0.745084</td>\n",
       "      <td>0.699134</td>\n",
       "      <td>00:08</td>\n",
       "    </tr>\n",
       "    <tr>\n",
       "      <td>57</td>\n",
       "      <td>0.768911</td>\n",
       "      <td>0.712429</td>\n",
       "      <td>0.829175</td>\n",
       "      <td>0.811826</td>\n",
       "      <td>0.806490</td>\n",
       "      <td>0.804142</td>\n",
       "      <td>0.758123</td>\n",
       "      <td>00:08</td>\n",
       "    </tr>\n",
       "    <tr>\n",
       "      <td>58</td>\n",
       "      <td>0.761732</td>\n",
       "      <td>0.753992</td>\n",
       "      <td>0.815739</td>\n",
       "      <td>0.807686</td>\n",
       "      <td>0.789920</td>\n",
       "      <td>0.790455</td>\n",
       "      <td>0.737959</td>\n",
       "      <td>00:08</td>\n",
       "    </tr>\n",
       "    <tr>\n",
       "      <td>59</td>\n",
       "      <td>0.757767</td>\n",
       "      <td>0.715644</td>\n",
       "      <td>0.838772</td>\n",
       "      <td>0.821080</td>\n",
       "      <td>0.822300</td>\n",
       "      <td>0.814739</td>\n",
       "      <td>0.772741</td>\n",
       "      <td>00:08</td>\n",
       "    </tr>\n",
       "    <tr>\n",
       "      <td>60</td>\n",
       "      <td>0.756481</td>\n",
       "      <td>0.703213</td>\n",
       "      <td>0.836852</td>\n",
       "      <td>0.822696</td>\n",
       "      <td>0.809646</td>\n",
       "      <td>0.810182</td>\n",
       "      <td>0.768198</td>\n",
       "      <td>00:08</td>\n",
       "    </tr>\n",
       "    <tr>\n",
       "      <td>61</td>\n",
       "      <td>0.749150</td>\n",
       "      <td>0.690990</td>\n",
       "      <td>0.844530</td>\n",
       "      <td>0.830223</td>\n",
       "      <td>0.823380</td>\n",
       "      <td>0.824839</td>\n",
       "      <td>0.778787</td>\n",
       "      <td>00:08</td>\n",
       "    </tr>\n",
       "    <tr>\n",
       "      <td>62</td>\n",
       "      <td>0.740860</td>\n",
       "      <td>0.703475</td>\n",
       "      <td>0.838772</td>\n",
       "      <td>0.824390</td>\n",
       "      <td>0.815227</td>\n",
       "      <td>0.815245</td>\n",
       "      <td>0.771025</td>\n",
       "      <td>00:08</td>\n",
       "    </tr>\n",
       "    <tr>\n",
       "      <td>63</td>\n",
       "      <td>0.737361</td>\n",
       "      <td>0.709249</td>\n",
       "      <td>0.842610</td>\n",
       "      <td>0.825163</td>\n",
       "      <td>0.822303</td>\n",
       "      <td>0.821539</td>\n",
       "      <td>0.776644</td>\n",
       "      <td>00:08</td>\n",
       "    </tr>\n",
       "    <tr>\n",
       "      <td>64</td>\n",
       "      <td>0.727031</td>\n",
       "      <td>0.754259</td>\n",
       "      <td>0.825336</td>\n",
       "      <td>0.815942</td>\n",
       "      <td>0.787275</td>\n",
       "      <td>0.785191</td>\n",
       "      <td>0.751614</td>\n",
       "      <td>00:08</td>\n",
       "    </tr>\n",
       "    <tr>\n",
       "      <td>65</td>\n",
       "      <td>0.727720</td>\n",
       "      <td>0.725107</td>\n",
       "      <td>0.821497</td>\n",
       "      <td>0.802926</td>\n",
       "      <td>0.780483</td>\n",
       "      <td>0.787630</td>\n",
       "      <td>0.744423</td>\n",
       "      <td>00:08</td>\n",
       "    </tr>\n",
       "    <tr>\n",
       "      <td>66</td>\n",
       "      <td>0.719576</td>\n",
       "      <td>0.722960</td>\n",
       "      <td>0.825336</td>\n",
       "      <td>0.805571</td>\n",
       "      <td>0.792652</td>\n",
       "      <td>0.793866</td>\n",
       "      <td>0.751414</td>\n",
       "      <td>00:08</td>\n",
       "    </tr>\n",
       "    <tr>\n",
       "      <td>67</td>\n",
       "      <td>0.723019</td>\n",
       "      <td>0.702303</td>\n",
       "      <td>0.838772</td>\n",
       "      <td>0.820087</td>\n",
       "      <td>0.817100</td>\n",
       "      <td>0.814931</td>\n",
       "      <td>0.771423</td>\n",
       "      <td>00:08</td>\n",
       "    </tr>\n",
       "    <tr>\n",
       "      <td>68</td>\n",
       "      <td>0.714579</td>\n",
       "      <td>0.717871</td>\n",
       "      <td>0.821497</td>\n",
       "      <td>0.812861</td>\n",
       "      <td>0.789322</td>\n",
       "      <td>0.790511</td>\n",
       "      <td>0.746096</td>\n",
       "      <td>00:08</td>\n",
       "    </tr>\n",
       "    <tr>\n",
       "      <td>69</td>\n",
       "      <td>0.706944</td>\n",
       "      <td>0.707672</td>\n",
       "      <td>0.827255</td>\n",
       "      <td>0.810215</td>\n",
       "      <td>0.800872</td>\n",
       "      <td>0.800526</td>\n",
       "      <td>0.755072</td>\n",
       "      <td>00:08</td>\n",
       "    </tr>\n",
       "    <tr>\n",
       "      <td>70</td>\n",
       "      <td>0.709099</td>\n",
       "      <td>0.705475</td>\n",
       "      <td>0.833013</td>\n",
       "      <td>0.816734</td>\n",
       "      <td>0.806734</td>\n",
       "      <td>0.806759</td>\n",
       "      <td>0.762886</td>\n",
       "      <td>00:08</td>\n",
       "    </tr>\n",
       "    <tr>\n",
       "      <td>71</td>\n",
       "      <td>0.710173</td>\n",
       "      <td>0.704099</td>\n",
       "      <td>0.833013</td>\n",
       "      <td>0.819041</td>\n",
       "      <td>0.812837</td>\n",
       "      <td>0.811414</td>\n",
       "      <td>0.763235</td>\n",
       "      <td>00:08</td>\n",
       "    </tr>\n",
       "    <tr>\n",
       "      <td>72</td>\n",
       "      <td>0.706078</td>\n",
       "      <td>0.727652</td>\n",
       "      <td>0.823417</td>\n",
       "      <td>0.803286</td>\n",
       "      <td>0.800666</td>\n",
       "      <td>0.796307</td>\n",
       "      <td>0.750514</td>\n",
       "      <td>00:08</td>\n",
       "    </tr>\n",
       "    <tr>\n",
       "      <td>73</td>\n",
       "      <td>0.713368</td>\n",
       "      <td>0.745444</td>\n",
       "      <td>0.821497</td>\n",
       "      <td>0.801055</td>\n",
       "      <td>0.795707</td>\n",
       "      <td>0.792222</td>\n",
       "      <td>0.747487</td>\n",
       "      <td>00:08</td>\n",
       "    </tr>\n",
       "    <tr>\n",
       "      <td>74</td>\n",
       "      <td>0.708777</td>\n",
       "      <td>0.710176</td>\n",
       "      <td>0.829175</td>\n",
       "      <td>0.809874</td>\n",
       "      <td>0.796536</td>\n",
       "      <td>0.801259</td>\n",
       "      <td>0.756191</td>\n",
       "      <td>00:08</td>\n",
       "    </tr>\n",
       "    <tr>\n",
       "      <td>75</td>\n",
       "      <td>0.710737</td>\n",
       "      <td>0.718381</td>\n",
       "      <td>0.813820</td>\n",
       "      <td>0.806526</td>\n",
       "      <td>0.781451</td>\n",
       "      <td>0.783457</td>\n",
       "      <td>0.735640</td>\n",
       "      <td>00:08</td>\n",
       "    </tr>\n",
       "    <tr>\n",
       "      <td>76</td>\n",
       "      <td>0.709509</td>\n",
       "      <td>0.713772</td>\n",
       "      <td>0.825336</td>\n",
       "      <td>0.813459</td>\n",
       "      <td>0.789809</td>\n",
       "      <td>0.794860</td>\n",
       "      <td>0.750912</td>\n",
       "      <td>00:08</td>\n",
       "    </tr>\n",
       "    <tr>\n",
       "      <td>77</td>\n",
       "      <td>0.704557</td>\n",
       "      <td>0.729730</td>\n",
       "      <td>0.811900</td>\n",
       "      <td>0.801372</td>\n",
       "      <td>0.775695</td>\n",
       "      <td>0.780795</td>\n",
       "      <td>0.731457</td>\n",
       "      <td>00:08</td>\n",
       "    </tr>\n",
       "    <tr>\n",
       "      <td>78</td>\n",
       "      <td>0.705004</td>\n",
       "      <td>0.740251</td>\n",
       "      <td>0.815739</td>\n",
       "      <td>0.803632</td>\n",
       "      <td>0.784226</td>\n",
       "      <td>0.787682</td>\n",
       "      <td>0.737384</td>\n",
       "      <td>00:08</td>\n",
       "    </tr>\n",
       "    <tr>\n",
       "      <td>79</td>\n",
       "      <td>0.697596</td>\n",
       "      <td>0.706834</td>\n",
       "      <td>0.825336</td>\n",
       "      <td>0.810331</td>\n",
       "      <td>0.801394</td>\n",
       "      <td>0.802684</td>\n",
       "      <td>0.751562</td>\n",
       "      <td>00:08</td>\n",
       "    </tr>\n",
       "    <tr>\n",
       "      <td>80</td>\n",
       "      <td>0.690229</td>\n",
       "      <td>0.718509</td>\n",
       "      <td>0.829175</td>\n",
       "      <td>0.814808</td>\n",
       "      <td>0.809751</td>\n",
       "      <td>0.808292</td>\n",
       "      <td>0.757977</td>\n",
       "      <td>00:08</td>\n",
       "    </tr>\n",
       "    <tr>\n",
       "      <td>81</td>\n",
       "      <td>0.686689</td>\n",
       "      <td>0.712066</td>\n",
       "      <td>0.821497</td>\n",
       "      <td>0.810369</td>\n",
       "      <td>0.789255</td>\n",
       "      <td>0.794419</td>\n",
       "      <td>0.745282</td>\n",
       "      <td>00:08</td>\n",
       "    </tr>\n",
       "    <tr>\n",
       "      <td>82</td>\n",
       "      <td>0.690401</td>\n",
       "      <td>0.716449</td>\n",
       "      <td>0.819578</td>\n",
       "      <td>0.804534</td>\n",
       "      <td>0.795532</td>\n",
       "      <td>0.796015</td>\n",
       "      <td>0.743892</td>\n",
       "      <td>00:08</td>\n",
       "    </tr>\n",
       "    <tr>\n",
       "      <td>83</td>\n",
       "      <td>0.686514</td>\n",
       "      <td>0.720105</td>\n",
       "      <td>0.819578</td>\n",
       "      <td>0.806362</td>\n",
       "      <td>0.789914</td>\n",
       "      <td>0.793193</td>\n",
       "      <td>0.743107</td>\n",
       "      <td>00:08</td>\n",
       "    </tr>\n",
       "    <tr>\n",
       "      <td>84</td>\n",
       "      <td>0.690481</td>\n",
       "      <td>0.707700</td>\n",
       "      <td>0.831094</td>\n",
       "      <td>0.817775</td>\n",
       "      <td>0.811760</td>\n",
       "      <td>0.810418</td>\n",
       "      <td>0.760592</td>\n",
       "      <td>00:08</td>\n",
       "    </tr>\n",
       "    <tr>\n",
       "      <td>85</td>\n",
       "      <td>0.675102</td>\n",
       "      <td>0.708454</td>\n",
       "      <td>0.834933</td>\n",
       "      <td>0.818848</td>\n",
       "      <td>0.811655</td>\n",
       "      <td>0.812208</td>\n",
       "      <td>0.765558</td>\n",
       "      <td>00:08</td>\n",
       "    </tr>\n",
       "    <tr>\n",
       "      <td>86</td>\n",
       "      <td>0.677282</td>\n",
       "      <td>0.715289</td>\n",
       "      <td>0.827255</td>\n",
       "      <td>0.814547</td>\n",
       "      <td>0.800872</td>\n",
       "      <td>0.803839</td>\n",
       "      <td>0.754024</td>\n",
       "      <td>00:08</td>\n",
       "    </tr>\n",
       "    <tr>\n",
       "      <td>87</td>\n",
       "      <td>0.678610</td>\n",
       "      <td>0.714898</td>\n",
       "      <td>0.817658</td>\n",
       "      <td>0.801042</td>\n",
       "      <td>0.789467</td>\n",
       "      <td>0.791672</td>\n",
       "      <td>0.740656</td>\n",
       "      <td>00:08</td>\n",
       "    </tr>\n",
       "    <tr>\n",
       "      <td>88</td>\n",
       "      <td>0.681061</td>\n",
       "      <td>0.711952</td>\n",
       "      <td>0.834933</td>\n",
       "      <td>0.820307</td>\n",
       "      <td>0.814013</td>\n",
       "      <td>0.813578</td>\n",
       "      <td>0.765802</td>\n",
       "      <td>00:08</td>\n",
       "    </tr>\n",
       "    <tr>\n",
       "      <td>89</td>\n",
       "      <td>0.683150</td>\n",
       "      <td>0.713442</td>\n",
       "      <td>0.823417</td>\n",
       "      <td>0.806861</td>\n",
       "      <td>0.794632</td>\n",
       "      <td>0.797910</td>\n",
       "      <td>0.748652</td>\n",
       "      <td>00:08</td>\n",
       "    </tr>\n",
       "    <tr>\n",
       "      <td>90</td>\n",
       "      <td>0.681459</td>\n",
       "      <td>0.710386</td>\n",
       "      <td>0.827255</td>\n",
       "      <td>0.810650</td>\n",
       "      <td>0.801775</td>\n",
       "      <td>0.803229</td>\n",
       "      <td>0.754533</td>\n",
       "      <td>00:08</td>\n",
       "    </tr>\n",
       "    <tr>\n",
       "      <td>91</td>\n",
       "      <td>0.675824</td>\n",
       "      <td>0.707288</td>\n",
       "      <td>0.831094</td>\n",
       "      <td>0.812345</td>\n",
       "      <td>0.804202</td>\n",
       "      <td>0.805681</td>\n",
       "      <td>0.759895</td>\n",
       "      <td>00:08</td>\n",
       "    </tr>\n",
       "    <tr>\n",
       "      <td>92</td>\n",
       "      <td>0.676390</td>\n",
       "      <td>0.710314</td>\n",
       "      <td>0.831094</td>\n",
       "      <td>0.817437</td>\n",
       "      <td>0.809092</td>\n",
       "      <td>0.809574</td>\n",
       "      <td>0.760146</td>\n",
       "      <td>00:08</td>\n",
       "    </tr>\n",
       "    <tr>\n",
       "      <td>93</td>\n",
       "      <td>0.680441</td>\n",
       "      <td>0.711211</td>\n",
       "      <td>0.834933</td>\n",
       "      <td>0.818679</td>\n",
       "      <td>0.811519</td>\n",
       "      <td>0.812128</td>\n",
       "      <td>0.765430</td>\n",
       "      <td>00:08</td>\n",
       "    </tr>\n",
       "    <tr>\n",
       "      <td>94</td>\n",
       "      <td>0.686425</td>\n",
       "      <td>0.713110</td>\n",
       "      <td>0.834933</td>\n",
       "      <td>0.819598</td>\n",
       "      <td>0.813877</td>\n",
       "      <td>0.813481</td>\n",
       "      <td>0.765648</td>\n",
       "      <td>00:08</td>\n",
       "    </tr>\n",
       "    <tr>\n",
       "      <td>95</td>\n",
       "      <td>0.678651</td>\n",
       "      <td>0.710207</td>\n",
       "      <td>0.833013</td>\n",
       "      <td>0.817831</td>\n",
       "      <td>0.808258</td>\n",
       "      <td>0.809645</td>\n",
       "      <td>0.762651</td>\n",
       "      <td>00:08</td>\n",
       "    </tr>\n",
       "    <tr>\n",
       "      <td>96</td>\n",
       "      <td>0.679337</td>\n",
       "      <td>0.713216</td>\n",
       "      <td>0.833013</td>\n",
       "      <td>0.818681</td>\n",
       "      <td>0.808258</td>\n",
       "      <td>0.810234</td>\n",
       "      <td>0.762482</td>\n",
       "      <td>00:09</td>\n",
       "    </tr>\n",
       "    <tr>\n",
       "      <td>97</td>\n",
       "      <td>0.677272</td>\n",
       "      <td>0.717437</td>\n",
       "      <td>0.831094</td>\n",
       "      <td>0.815902</td>\n",
       "      <td>0.807530</td>\n",
       "      <td>0.808235</td>\n",
       "      <td>0.759976</td>\n",
       "      <td>00:08</td>\n",
       "    </tr>\n",
       "    <tr>\n",
       "      <td>98</td>\n",
       "      <td>0.675925</td>\n",
       "      <td>0.719353</td>\n",
       "      <td>0.833013</td>\n",
       "      <td>0.819835</td>\n",
       "      <td>0.812974</td>\n",
       "      <td>0.812269</td>\n",
       "      <td>0.763145</td>\n",
       "      <td>00:08</td>\n",
       "    </tr>\n",
       "    <tr>\n",
       "      <td>99</td>\n",
       "      <td>0.676846</td>\n",
       "      <td>0.727310</td>\n",
       "      <td>0.831094</td>\n",
       "      <td>0.814102</td>\n",
       "      <td>0.804687</td>\n",
       "      <td>0.806583</td>\n",
       "      <td>0.759738</td>\n",
       "      <td>00:08</td>\n",
       "    </tr>\n",
       "  </tbody>\n",
       "</table>"
      ],
      "text/plain": [
       "<IPython.core.display.HTML object>"
      ]
     },
     "metadata": {},
     "output_type": "display_data"
    },
    {
     "data": {
      "image/png": "[encoded data removed]",
      "text/plain": [
       "<Figure size 432x288 with 1 Axes>"
      ]
     },
     "metadata": {},
     "output_type": "display_data"
    }
   ],
   "source": [
    "learn.fit_one_cycle(100, lr_max=1e-3)"
   ]
  },
  {
   "cell_type": "code",
   "execution_count": 39,
   "metadata": {
    "ExecuteTime": {
     "end_time": "2020-08-24T13:28:18.922298Z",
     "start_time": "2020-08-24T13:28:18.540360Z"
    }
   },
   "outputs": [],
   "source": [
    "learn.export()"
   ]
  },
  {
   "cell_type": "markdown",
   "metadata": {},
   "source": [
    "# See results"
   ]
  },
  {
   "cell_type": "code",
   "execution_count": 40,
   "metadata": {
    "ExecuteTime": {
     "end_time": "2020-08-24T13:28:21.934119Z",
     "start_time": "2020-08-24T13:28:20.752990Z"
    }
   },
   "outputs": [
    {
     "data": {
      "text/html": [],
      "text/plain": [
       "<IPython.core.display.HTML object>"
      ]
     },
     "metadata": {},
     "output_type": "display_data"
    },
    {
     "data": {
      "image/png": "[encoded data removed]",
      "text/plain": [
       "<Figure size 1080x1080 with 25 Axes>"
      ]
     },
     "metadata": {
      "needs_background": "light"
     },
     "output_type": "display_data"
    }
   ],
   "source": [
    "learn.show_results(channels=[82,50,29], scale=True, max_n=25, scale_axis=None, vmin=vmin, vmax=vmax)"
   ]
  },
  {
   "cell_type": "code",
   "execution_count": 41,
   "metadata": {
    "ExecuteTime": {
     "end_time": "2020-08-24T13:28:23.338976Z",
     "start_time": "2020-08-24T13:28:21.940548Z"
    }
   },
   "outputs": [
    {
     "data": {
      "text/html": [],
      "text/plain": [
       "<IPython.core.display.HTML object>"
      ]
     },
     "metadata": {},
     "output_type": "display_data"
    }
   ],
   "source": [
    "interp = ClassificationInterpretation.from_learner(learn)"
   ]
  },
  {
   "cell_type": "code",
   "execution_count": 42,
   "metadata": {
    "ExecuteTime": {
     "end_time": "2020-08-24T13:28:23.837541Z",
     "start_time": "2020-08-24T13:28:23.341455Z"
    }
   },
   "outputs": [
    {
     "data": {
      "image/png": "[encoded data removed]",
      "text/plain": [
       "<Figure size 1080x1080 with 9 Axes>"
      ]
     },
     "metadata": {
      "needs_background": "light"
     },
     "output_type": "display_data"
    }
   ],
   "source": [
    "interp.plot_top_losses(9, channels=[82,50,29], scale=True, scale_axis=None, largest=True, vmin=vmin, vmax=vmax,\n",
    "                       figsize=(15,15))"
   ]
  },
  {
   "cell_type": "code",
   "execution_count": 43,
   "metadata": {
    "ExecuteTime": {
     "end_time": "2020-08-24T13:28:23.993955Z",
     "start_time": "2020-08-24T13:28:23.841255Z"
    }
   },
   "outputs": [
    {
     "data": {
      "image/png": "[encoded data removed]",
      "text/plain": [
       "<Figure size 432x288 with 1 Axes>"
      ]
     },
     "metadata": {
      "needs_background": "light"
     },
     "output_type": "display_data"
    }
   ],
   "source": [
    "interp.plot_confusion_matrix()"
   ]
  },
  {
   "cell_type": "code",
   "execution_count": 44,
   "metadata": {
    "ExecuteTime": {
     "end_time": "2020-08-24T13:28:24.039925Z",
     "start_time": "2020-08-24T13:28:23.995924Z"
    }
   },
   "outputs": [
    {
     "name": "stdout",
     "output_type": "stream",
     "text": [
      "                precision    recall  f1-score   support\n",
      "\n",
      "         Birch       0.69      0.71      0.70        70\n",
      "European aspen       0.92      0.80      0.86        81\n",
      " Norway spruce       0.88      0.85      0.86       206\n",
      "    Scots pine       0.86      0.93      0.89       164\n",
      "\n",
      "      accuracy                           0.85       521\n",
      "     macro avg       0.84      0.82      0.83       521\n",
      "  weighted avg       0.85      0.85      0.85       521\n",
      "\n"
     ]
    }
   ],
   "source": [
    "interp.print_classification_report()"
   ]
  }
 ],
 "metadata": {
  "kernelspec": {
   "display_name": "Python 3",
   "language": "python",
   "name": "python3"
  },
  "language_info": {
   "codemirror_mode": {
    "name": "ipython",
    "version": 3
   },
   "file_extension": ".py",
   "mimetype": "text/x-python",
   "name": "python",
   "nbconvert_exporter": "python",
   "pygments_lexer": "ipython3",
   "version": "3.7.6"
  },
  "latex_envs": {
   "LaTeX_envs_menu_present": true,
   "autoclose": false,
   "autocomplete": true,
   "bibliofile": "biblio.bib",
   "cite_by": "apalike",
   "current_citInitial": 1,
   "eqLabelWithNumbers": true,
   "eqNumInitial": 1,
   "hotkeys": {
    "equation": "Ctrl-E",
    "itemize": "Ctrl-I"
   },
   "labels_anchors": false,
   "latex_user_defs": false,
   "report_style_numbering": false,
   "user_envs_cfg": false
  },
  "toc": {
   "base_numbering": 1,
   "nav_menu": {},
   "number_sections": true,
   "sideBar": true,
   "skip_h1_title": false,
   "title_cell": "Table of Contents",
   "title_sidebar": "Contents",
   "toc_cell": false,
   "toc_position": {
    "height": "calc(100% - 180px)",
    "left": "10px",
    "top": "150px",
    "width": "264px"
   },
   "toc_section_display": true,
   "toc_window_display": true
  }
 },
 "nbformat": 4,
 "nbformat_minor": 2
}
